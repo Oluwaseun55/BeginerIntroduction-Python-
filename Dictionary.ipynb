{
 "cells": [
  {
   "cell_type": "code",
   "execution_count": 1,
   "id": "916a9faf-ce34-44c4-b591-30139102f5a0",
   "metadata": {},
   "outputs": [
    {
     "data": {
      "text/plain": [
       "{'The Bodyguard': '1992', 'Saturday Night Fever': '1977'}"
      ]
     },
     "execution_count": 1,
     "metadata": {},
     "output_type": "execute_result"
    }
   ],
   "source": [
    "soundtrack_dic = {\"The Bodyguard\":\"1992\", \"Saturday Night Fever\":\"1977\"}\n",
    "soundtrack_dic "
   ]
  },
  {
   "cell_type": "code",
   "execution_count": 2,
   "id": "47b8ba87-b21c-4021-8d08-bd1ee9a67015",
   "metadata": {},
   "outputs": [
    {
     "data": {
      "text/plain": [
       "dict_keys(['The Bodyguard', 'Saturday Night Fever'])"
      ]
     },
     "execution_count": 2,
     "metadata": {},
     "output_type": "execute_result"
    }
   ],
   "source": [
    "soundtrack_dic.keys()"
   ]
  },
  {
   "cell_type": "code",
   "execution_count": 3,
   "id": "eaf5fffe-a0df-4279-bd53-682bc5f0e4da",
   "metadata": {},
   "outputs": [
    {
     "data": {
      "text/plain": [
       "dict_values(['1992', '1977'])"
      ]
     },
     "execution_count": 3,
     "metadata": {},
     "output_type": "execute_result"
    }
   ],
   "source": [
    "soundtrack_dic.values()"
   ]
  },
  {
   "cell_type": "markdown",
   "id": "ec6b6cf8-ac37-4c21-8b66-4d39b2efc02e",
   "metadata": {},
   "source": [
    "                              Task-1 Create an empty dictionary"
   ]
  },
  {
   "cell_type": "code",
   "execution_count": 19,
   "id": "82387ad2-0d20-4784-a7df-35a987dd03af",
   "metadata": {},
   "outputs": [],
   "source": [
    "inventory = {}"
   ]
  },
  {
   "cell_type": "code",
   "execution_count": null,
   "id": "0916049f-0ee9-4937-abc3-d5e561f04a60",
   "metadata": {},
   "outputs": [],
   "source": []
  },
  {
   "cell_type": "code",
   "execution_count": 34,
   "id": "45b8d3d1-3053-42bd-ba2c-d5fd3b4b0af6",
   "metadata": {},
   "outputs": [],
   "source": [
    "ProductNo1= \"Mobile Phone\"\n",
    "productNo1_quantity = 5\n",
    "productNo1_price = 20000\n",
    "productNo1_releaseYear = 2020\n",
    "\n"
   ]
  },
  {
   "cell_type": "code",
   "execution_count": 35,
   "id": "118373ec-86c8-4105-a5ad-0ba5d8a2dfd9",
   "metadata": {},
   "outputs": [],
   "source": [
    "inventory[\"productNo1\"]= ProductNo1\n",
    "inventory[\"productNo1_quantity\"]= productNo1_quantity \n",
    "inventory[\"productNo1_price\"]= productNo1_price\n",
    "inventory[\"productNo1_releaseYear\"]= productNo1_releaseYear\n"
   ]
  },
  {
   "cell_type": "code",
   "execution_count": 40,
   "id": "8b70316f-c9eb-423f-b818-f4845681aaf3",
   "metadata": {},
   "outputs": [],
   "source": [
    "productNo2 = \"Laptop\"\n",
    "productNo2_quantity = 10\n",
    "productNo2_price = 50000\n",
    "productNo2_releaseYear = 2023"
   ]
  },
  {
   "cell_type": "code",
   "execution_count": 44,
   "id": "c50cde24-5c06-4fe9-917c-249995e6b4f4",
   "metadata": {},
   "outputs": [],
   "source": [
    "inventory[\"productNo2\"]= productNo2 \n",
    "inventory[\"productNo2_quantity\"]= productNo2_Quantity \n",
    "inventory[\"productNo2_price\"]= productNo2_price\n",
    "inventory[\"productNo2_releaseYear\"]= productNo2_ReleaseYear"
   ]
  },
  {
   "cell_type": "code",
   "execution_count": 45,
   "id": "d09922e3-6fa2-4c97-8664-8acf3540e677",
   "metadata": {},
   "outputs": [
    {
     "name": "stdout",
     "output_type": "stream",
     "text": [
      "{'productNo1_quantity': 5, 'productNo1_price': 20000, 'productNo1_releaseYear': 2020, 'productNo2_quantity': 10, 'productNo2_price': 50000, 'productNo2_releaseYear': 2023, 'productNo1': 'Mobile Phone', 'productNo2': 'Laptop'}\n"
     ]
    }
   ],
   "source": [
    "print(inventory)"
   ]
  },
  {
   "cell_type": "code",
   "execution_count": 46,
   "id": "5dd330cb-d113-4b50-ae98-d38a8499c130",
   "metadata": {},
   "outputs": [
    {
     "data": {
      "text/plain": [
       "False"
      ]
     },
     "execution_count": 46,
     "metadata": {},
     "output_type": "execute_result"
    }
   ],
   "source": [
    "\"ProductNo1_releaseYear\" in inventory"
   ]
  },
  {
   "cell_type": "code",
   "execution_count": null,
   "id": "62b27300-54b2-451d-83a3-e75d8326b7be",
   "metadata": {},
   "outputs": [],
   "source": []
  }
 ],
 "metadata": {
  "kernelspec": {
   "display_name": "Python 3 (ipykernel)",
   "language": "python",
   "name": "python3"
  },
  "language_info": {
   "codemirror_mode": {
    "name": "ipython",
    "version": 3
   },
   "file_extension": ".py",
   "mimetype": "text/x-python",
   "name": "python",
   "nbconvert_exporter": "python",
   "pygments_lexer": "ipython3",
   "version": "3.11.7"
  }
 },
 "nbformat": 4,
 "nbformat_minor": 5
}
