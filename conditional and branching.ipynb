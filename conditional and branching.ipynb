{
 "cells": [
  {
   "cell_type": "code",
   "execution_count": 5,
   "id": "040db5ae-c65e-43ad-8ae4-1d61dd65f668",
   "metadata": {},
   "outputs": [
    {
     "name": "stdout",
     "output_type": "stream",
     "text": [
      "see him\n",
      "move on\n"
     ]
    }
   ],
   "source": [
    "age = 19\n",
    "\n",
    "if age > 19:\n",
    "  print(\"enter\")\n",
    "elif age == 19:\n",
    "    print(\"see him\")\n",
    "else:\n",
    "    print(\"see me\")\n",
    "print(\"move on\")\n",
    "\n",
    "\n"
   ]
  },
  {
   "cell_type": "code",
   "execution_count": 12,
   "id": "de5e86e7-7745-4c4e-94a2-b62ce7f06208",
   "metadata": {},
   "outputs": [
    {
     "name": "stdout",
     "output_type": "stream",
     "text": [
      "album year is great\n"
     ]
    }
   ],
   "source": [
    "album_year = 1983\n",
    "album_years = 1970\n",
    "\n",
    "if album_year > 1980:\n",
    "    print(\"album year is great\")\n",
    "  \n"
   ]
  },
  {
   "cell_type": "code",
   "execution_count": 13,
   "id": "56810247-cae3-45e6-a982-d6ecfd60d388",
   "metadata": {},
   "outputs": [
    {
     "name": "stdout",
     "output_type": "stream",
     "text": [
      "album year was in betweeen 1989 to 1989\n",
      "\n",
      "do stuff\n"
     ]
    }
   ],
   "source": [
    "album_year = 1980\n",
    "\n",
    "if(album_year > 1979) and (album_year < 1990):\n",
    "    print(\"album year was in betweeen 1980 to 1989\")\n",
    "print(\"\")\n",
    "print(\"do stuff\")"
   ]
  },
  {
   "cell_type": "code",
   "execution_count": 15,
   "id": "fbe82f44-d942-445e-a6e9-26f2861d4d17",
   "metadata": {},
   "outputs": [
    {
     "name": "stdout",
     "output_type": "stream",
     "text": [
      "this album is amazing\n"
     ]
    }
   ],
   "source": [
    "rating = 8.5\n",
    "if rating > 8:\n",
    "    print(\"this album is amazing\")\n",
    "\n",
    "else:\n",
    "    print(\"check\")"
   ]
  },
  {
   "cell_type": "code",
   "execution_count": null,
   "id": "c69671f2-95b0-4320-b3ad-70cc2b05277a",
   "metadata": {},
   "outputs": [],
   "source": [
    "Write an if statement to determine if an album came out before 1980 or in the years: 1991 or 1993. If the condition is true print out the year the album came out."
   ]
  },
  {
   "cell_type": "code",
   "execution_count": 17,
   "id": "ffd16b43-5d75-457c-bd0b-995a7da78d4e",
   "metadata": {},
   "outputs": [
    {
     "name": "stdout",
     "output_type": "stream",
     "text": [
      "This album came out\n"
     ]
    }
   ],
   "source": [
    "album_year = 1979\n",
    "if album_year < 1980 or album_year == 1991 or album_year == 19993:\n",
    "    print(\"This album came out\")"
   ]
  },
  {
   "cell_type": "code",
   "execution_count": 46,
   "id": "44faa66c-10f3-401c-b083-c37384badc7f",
   "metadata": {},
   "outputs": [],
   "source": [
    "# Real-life example: Automated Teller Machine (ATM)\n",
    "# When a user interacts with an ATM, the software in the ATM can use branching to make decisions based on the user's input.\n",
    "# For example, if the user selects \"Withdraw Cash\" the ATM can branch into different denominations of bills to dispense based on the amount requested."
   ]
  },
  {
   "cell_type": "code",
   "execution_count": 47,
   "id": "8a49241e-519c-4e7e-9731-c45a5da10600",
   "metadata": {},
   "outputs": [
    {
     "name": "stdin",
     "output_type": "stream",
     "text": [
      "Enter amount to withdraw:  200\n"
     ]
    },
    {
     "name": "stdout",
     "output_type": "stream",
     "text": [
      "Dispensing 200 dollars\n"
     ]
    }
   ],
   "source": [
    "user_choice = \"withdraw Cash\"\n",
    "if user_choice == \"withdraw Cash\":\n",
    "    amount = int(input(\"Enter amount to withdraw: \"))\n",
    "    if amount % 10 == 0:\n",
    "        dispense_Cash(amount)\n",
    "    else:\n",
    "        print(\"please enter a multiple of 10\")\n",
    "else:\n",
    "    print(\"thank you for using the ATM\")"
   ]
  },
  {
   "cell_type": "code",
   "execution_count": 55,
   "id": "15cc21ef-c719-4d80-8b40-a1836c1fa3bc",
   "metadata": {},
   "outputs": [],
   "source": [
    "is_do_not_disturb = True\n",
    "if not is_do_not_disturb:\n",
    " send_notification(\"New message received\")"
   ]
  },
  {
   "cell_type": "code",
   "execution_count": 56,
   "id": "7d61eca6-1bd4-41ee-b8a5-671d952ea1cb",
   "metadata": {},
   "outputs": [
    {
     "ename": "SyntaxError",
     "evalue": "invalid syntax (334854173.py, line 5)",
     "output_type": "error",
     "traceback": [
      "\u001b[1;36m  Cell \u001b[1;32mIn[56], line 5\u001b[1;36m\u001b[0m\n\u001b[1;33m    choose a movie()\u001b[0m\n\u001b[1;37m           ^\u001b[0m\n\u001b[1;31mSyntaxError\u001b[0m\u001b[1;31m:\u001b[0m invalid syntax\n"
     ]
    }
   ],
   "source": [
    "friend1_likes_comedy = True\n",
    "friend2_likes_action = False\n",
    "friend3_likes_drama = False\n",
    "if friend1_likes_comedy or friend2_likes_action or friend3_likes_drama:\n",
    "    choose a movie()"
   ]
  },
  {
   "cell_type": "code",
   "execution_count": 1,
   "id": "b2af23f9-a163-45de-9a81-77de3f56617e",
   "metadata": {},
   "outputs": [
    {
     "name": "stdout",
     "output_type": "stream",
     "text": [
      "qualify for honors\n"
     ]
    }
   ],
   "source": [
    "marks = 90\n",
    "attendance_percentage = 87\n",
    "if marks >= 80 and attendance_percentage >= 85:\n",
    "    print(\"qualify for honors\")\n",
    "else:\n",
    "    print(\"Not qualified for honors\")\n"
   ]
  },
  {
   "cell_type": "code",
   "execution_count": 2,
   "id": "37c342e0-f950-40f1-8a06-0e20452a6362",
   "metadata": {},
   "outputs": [
    {
     "name": "stdout",
     "output_type": "stream",
     "text": [
      "You got a B.\n"
     ]
    }
   ],
   "source": [
    "score = 85  # Example score\n",
    "if score >= 90:\n",
    "    print(\"You got an A!\")\n",
    "elif score >= 80:\n",
    "    print(\"You got a B.\")\n",
    "else:\n",
    "    print(\"You need to work harder.\")\n",
    "# Output = You got a B."
   ]
  },
  {
   "cell_type": "code",
   "execution_count": 3,
   "id": "82fbd6ef-4e1a-44d0-a3de-58fcc48548e0",
   "metadata": {},
   "outputs": [
    {
     "name": "stdout",
     "output_type": "stream",
     "text": [
      "1\n",
      "2\n",
      "4\n",
      "5\n"
     ]
    }
   ],
   "source": [
    "for num in range(1, 6):\n",
    "    if num == 3:\n",
    "        continue\n",
    "    print(num)"
   ]
  },
  {
   "cell_type": "code",
   "execution_count": null,
   "id": "dd67016a-b2d1-4709-bed4-771f5506e69d",
   "metadata": {},
   "outputs": [],
   "source": []
  }
 ],
 "metadata": {
  "kernelspec": {
   "display_name": "Python 3 (ipykernel)",
   "language": "python",
   "name": "python3"
  },
  "language_info": {
   "codemirror_mode": {
    "name": "ipython",
    "version": 3
   },
   "file_extension": ".py",
   "mimetype": "text/x-python",
   "name": "python",
   "nbconvert_exporter": "python",
   "pygments_lexer": "ipython3",
   "version": "3.11.7"
  }
 },
 "nbformat": 4,
 "nbformat_minor": 5
}
