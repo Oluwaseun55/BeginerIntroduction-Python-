{
 "cells": [
  {
   "cell_type": "code",
   "execution_count": 9,
   "id": "25e6ab1c-e56f-4473-ba52-f387332ff9aa",
   "metadata": {},
   "outputs": [
    {
     "name": "stdin",
     "output_type": "stream",
     "text": [
      "enter a number 3\n"
     ]
    },
    {
     "name": "stdout",
     "output_type": "stream",
     "text": [
      "sucess a= 0.3333333333333333\n",
      "processing is done\n"
     ]
    }
   ],
   "source": [
    "a = 1\n",
    "try:\n",
    "    b = int(input(\"enter a number\"))\n",
    "    a = a/b\n",
    "    \n",
    "\n",
    "except ZeroDivisionError:\n",
    " print(\"the number you divided can't be divided by o\")\n",
    "except ValueError:\n",
    " print(\"you did'nt input a number\")\n",
    "except:\n",
    " print(\"Something went wrong\")\n",
    "else:\n",
    " print(\"sucess a=\", a)\n",
    "finally:\n",
    " print(\"processing is done\")   \n",
    "\n",
    "              "
   ]
  },
  {
   "cell_type": "code",
   "execution_count": 5,
   "id": "6634ab0b-a5dc-4a24-a748-52ce84fdadf5",
   "metadata": {},
   "outputs": [
    {
     "name": "stdin",
     "output_type": "stream",
     "text": [
      "Enter the numerator number:  4\n",
      "Enter the denominator number:  0\n"
     ]
    },
    {
     "name": "stdout",
     "output_type": "stream",
     "text": [
      "Error: Cannot divide by zero.\n",
      "Good\n"
     ]
    }
   ],
   "source": [
    "def safe_divide():\n",
    "    try:\n",
    "        a = int(input(\"Enter the numerator number: \"))\n",
    "        b = int(input(\"Enter the denominator number: \"))\n",
    "        c = a / b\n",
    "        print(\"The value of c =\", c)\n",
    "        return True\n",
    "    except ZeroDivisionError:\n",
    "        print(\"Error: Cannot divide by zero.\")\n",
    "        return None\n",
    "    except ValueError:\n",
    "        print(\"Please enter valid integer numbers.\")\n",
    "        return False\n",
    "    except Exception as e:\n",
    "        print(f\"Something went wrong: {e}\")\n",
    "        return False\n",
    "    finally:\n",
    "        print(\"Good\")\n",
    "\n",
    "# Call the function\n",
    "safe_divide()\n",
    "\n",
    "        "
   ]
  },
  {
   "cell_type": "code",
   "execution_count": 6,
   "id": "ed280618-9d1d-4075-9c77-9ae257ed5970",
   "metadata": {},
   "outputs": [
    {
     "name": "stdin",
     "output_type": "stream",
     "text": [
      "Enter the number:- 4\n"
     ]
    },
    {
     "name": "stdout",
     "output_type": "stream",
     "text": [
      "Result: 2.0\n"
     ]
    }
   ],
   "source": [
    "import math\n",
    "\n",
    "def perform_calculation(number1):\n",
    "    try:\n",
    "        result = math.sqrt(number1)\n",
    "        print(f\"Result: {result}\")\n",
    "    except ValueError:\n",
    "        print(\"Error: Invalid input! Please enter a positive integer or a float value.\")\n",
    "# Test case\n",
    "number1=float(input(\"Enter the number:-\"))\n",
    "perform_calculation(number1)"
   ]
  },
  {
   "cell_type": "code",
   "execution_count": 7,
   "id": "d9abce6a-957b-4afe-872b-d191e51a2ddf",
   "metadata": {},
   "outputs": [
    {
     "name": "stdin",
     "output_type": "stream",
     "text": [
      "Enter a number:  3\n"
     ]
    },
    {
     "name": "stdout",
     "output_type": "stream",
     "text": [
      "Result: -1.5\n"
     ]
    }
   ],
   "source": [
    "def complex_calculation(num):\n",
    "    try:\n",
    "        result = num / (num - 5)\n",
    "        print (f\"Result: {result}\")\n",
    "    except Exception as e:\n",
    "        print(\"An error occurred during calculation.\")\n",
    "# Test case\n",
    "user_input = float(input(\"Enter a number: \"))\n",
    "complex_calculation(user_input)"
   ]
  },
  {
   "cell_type": "code",
   "execution_count": null,
   "id": "b84a5c67-e565-4f4f-a7e0-054cce862f53",
   "metadata": {},
   "outputs": [],
   "source": []
  }
 ],
 "metadata": {
  "kernelspec": {
   "display_name": "Python 3 (ipykernel)",
   "language": "python",
   "name": "python3"
  },
  "language_info": {
   "codemirror_mode": {
    "name": "ipython",
    "version": 3
   },
   "file_extension": ".py",
   "mimetype": "text/x-python",
   "name": "python",
   "nbconvert_exporter": "python",
   "pygments_lexer": "ipython3",
   "version": "3.11.7"
  }
 },
 "nbformat": 4,
 "nbformat_minor": 5
}
