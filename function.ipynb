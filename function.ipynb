{
 "cells": [
  {
   "cell_type": "code",
   "execution_count": 8,
   "id": "7e0c8235-fea3-4da9-a065-d4ea508cc795",
   "metadata": {},
   "outputs": [
    {
     "name": "stdout",
     "output_type": "stream",
     "text": [
      "5\n"
     ]
    }
   ],
   "source": [
    "def total(a,b):\n",
    "    totals = a + b\n",
    "    return totals\n",
    "\n",
    "result = total(2,3)\n",
    "print(result)\n",
    "    \n"
   ]
  },
  {
   "cell_type": "code",
   "execution_count": 6,
   "id": "4b3260a3-e3be-4606-9490-5b44d383cbbc",
   "metadata": {},
   "outputs": [
    {
     "name": "stdout",
     "output_type": "stream",
     "text": [
      "None\n"
     ]
    }
   ],
   "source": [
    "def greet(name):\n",
    "    gret = name\n",
    "    return gret\n",
    "\n",
    "salute = greet(\"good\")\n",
    "print(\n",
    "    "
   ]
  },
  {
   "cell_type": "code",
   "execution_count": 5,
   "id": "1718be4f-bb0d-4fb3-8d41-2b107ecea652",
   "metadata": {},
   "outputs": [
    {
     "name": "stdout",
     "output_type": "stream",
     "text": [
      "Hello, Alice\n",
      "None\n"
     ]
    }
   ],
   "source": [
    "def greet(name):\n",
    "    print(\"Hello, \" + name)\n",
    "result = greet(\"Alice\")\n",
    "print(result)  # Output: Hello, Alice"
   ]
  },
  {
   "cell_type": "code",
   "execution_count": 11,
   "id": "6ce6e032-3a23-4418-bbbb-9be10ad0909c",
   "metadata": {},
   "outputs": [
    {
     "name": "stdout",
     "output_type": "stream",
     "text": [
      "1\n",
      "2\n",
      "3\n",
      "4\n",
      "5\n"
     ]
    }
   ],
   "source": [
    "def print_number(limit):\n",
    "    for i in range(1,limit+1):\n",
    "        print(i)\n",
    "\n",
    "print_number(5)"
   ]
  },
  {
   "cell_type": "code",
   "execution_count": 13,
   "id": "4340ce74-0c09-473a-9820-aed14c45c8fd",
   "metadata": {},
   "outputs": [],
   "source": [
    "# # Function to remove an element from the list\n",
    "# def remove_element(data_structure, element):\n",
    "#     if element in data_structure:\n",
    "#         data_structure.remove(element)\n",
    "#     else:\n",
    "#         print(f\"{element} not found in the list.\")\n",
    "\n",
    "# # Add elements to the list using the add_element function\n",
    "# add_element(my_list, 42)\n",
    "# add_element(my_list, 17)\n",
    "# add_element(my_list, 99)\n",
    "\n",
    "# # Print the current list\n",
    "# print(\"Current list:\", my_list)"
   ]
  },
  {
   "cell_type": "code",
   "execution_count": 16,
   "id": "606225c4-77d8-4ac0-af1a-2bb5acb06319",
   "metadata": {},
   "outputs": [
    {
     "name": "stdout",
     "output_type": "stream",
     "text": [
      "6\n"
     ]
    }
   ],
   "source": [
    "def mut(a,b):\n",
    "    m = a * b\n",
    "    return m\n",
    "\n",
    "j = mut(2,3)\n",
    "print(j)"
   ]
  },
  {
   "cell_type": "code",
   "execution_count": 28,
   "id": "bfa49d29-5669-49f6-b1ea-d1a21ed88252",
   "metadata": {},
   "outputs": [],
   "source": [
    "def con(a,b):\n",
    "    return (a + b)\n",
    "    g= con(\"this is \", \"ade\")\n",
    "    print(g)\n",
    "    "
   ]
  },
  {
   "cell_type": "code",
   "execution_count": 1,
   "id": "7b9d6e19-2e40-4174-8033-5bd8c86c9ac9",
   "metadata": {},
   "outputs": [
    {
     "ename": "SyntaxError",
     "evalue": "'return' outside function (2593263782.py, line 5)",
     "output_type": "error",
     "traceback": [
      "\u001b[1;36m  Cell \u001b[1;32mIn[1], line 5\u001b[1;36m\u001b[0m\n\u001b[1;33m    return true\u001b[0m\n\u001b[1;37m    ^\u001b[0m\n\u001b[1;31mSyntaxError\u001b[0m\u001b[1;31m:\u001b[0m 'return' outside function\n"
     ]
    }
   ],
   "source": [
    "a1 = 4\n",
    "b1 = 5\n",
    "c1 = a1 + b1 + 2 * a1 * b1 - 1\n",
    "if (cl > 0):\n",
    "    \n",
    "else:\n",
    "    return false"
   ]
  },
  {
   "cell_type": "code",
   "execution_count": 37,
   "id": "51b050f1-a885-40c8-bf17-900b359e9549",
   "metadata": {},
   "outputs": [
    {
     "name": "stdout",
     "output_type": "stream",
     "text": [
      "The sum of the elements in the tuple (1, 2) is 3.\n"
     ]
    }
   ],
   "source": [
    "# Define a tuple\n",
    "a = (1, 2)\n",
    "\n",
    "# Pass the tuple to the sum function and store the result in a variable\n",
    "c = sum(a)\n",
    "\n",
    "# Print the result\n",
    "print(f\"The sum of the elements in the tuple {a} is {c}.\")"
   ]
  },
  {
   "cell_type": "code",
   "execution_count": 2,
   "id": "1b352d85-2cc2-4bb4-b6a5-c4dee3bd2196",
   "metadata": {},
   "outputs": [
    {
     "name": "stdout",
     "output_type": "stream",
     "text": [
      "digital 5th 2000\n",
      "latest\n"
     ]
    }
   ],
   "source": [
    "def compu(types, generation, yearOfProduce):\n",
    "    print(types, generation, yearOfProduce)\n",
    "    if yearOfProduce == 2000:\n",
    "       return \"latest\"\n",
    "    elif(types != \"digital\"):\n",
    "        return \"fake\"\n",
    "    else:\n",
    "        return \"consult the buyer\"\n",
    "\n",
    "x= compu(\"digital\",\"5th\",2000)\n",
    "print(x)"
   ]
  },
  {
   "cell_type": "code",
   "execution_count": 3,
   "id": "a5fa2d68-e423-4763-912c-c6587a995521",
   "metadata": {},
   "outputs": [
    {
     "data": {
      "text/plain": [
       "1"
      ]
     },
     "execution_count": 3,
     "metadata": {},
     "output_type": "execute_result"
    }
   ],
   "source": [
    "len([sum([1,1,1])])"
   ]
  },
  {
   "cell_type": "code",
   "execution_count": 1,
   "id": "e312c4db-442e-4c97-b6e1-fe88c7aa0ac6",
   "metadata": {},
   "outputs": [
    {
     "name": "stdout",
     "output_type": "stream",
     "text": [
      "The sum of the elements in the list [1, 2] is 3.\n"
     ]
    }
   ],
   "source": [
    "# Define a list\n",
    "a = [1, 2]\n",
    "\n",
    "# Pass the list to the sum function and store the result in a variable\n",
    "c = sum(a)\n",
    "\n",
    "# Print the result\n",
    "print(f\"The sum of the elements in the list {a} is {c}.\")\n"
   ]
  },
  {
   "cell_type": "code",
   "execution_count": 10,
   "id": "5a03cf2e-163b-4d0f-b60b-24a9613cec8b",
   "metadata": {},
   "outputs": [
    {
     "name": "stdout",
     "output_type": "stream",
     "text": [
      "\n",
      "string match\n",
      "every processed\n"
     ]
    }
   ],
   "source": [
    "def compareString(x, y):\n",
    "    try:\n",
    "        if x == y:\n",
    "            return 1\n",
    "        else:\n",
    "            return 0\n",
    "    except ValueError:\n",
    "        return 0\n",
    "\n",
    "string1 = \"i love football\"\n",
    "string2 = \"i love football\"\n",
    "\n",
    "try:\n",
    "    check = compareString(string1, string2)\n",
    "    if check == 1:\n",
    "        print(\"\\nstring match\")\n",
    "    else:\n",
    "        print(\"\\nstring not match\")\n",
    "except ValueError:\n",
    "    print(\"\\nAn error occurred\")\n",
    "finally:\n",
    "    print(\"every processed\")\n",
    "\n",
    "        "
   ]
  },
  {
   "cell_type": "code",
   "execution_count": 11,
   "id": "b3d8aa36-d937-4cea-b725-1af6b3238271",
   "metadata": {},
   "outputs": [
    {
     "name": "stdout",
     "output_type": "stream",
     "text": [
      "The Frequency of words is: {'Mary': 6, 'had': 2, 'a': 2, 'little': 3, 'lamb': 3, 'Little': 1, 'lamb,': 1, 'lamb.Its': 1, 'fleece': 1, 'was': 2, 'white': 1, 'as': 1, 'snow': 1, 'And': 1, 'everywhere': 1, 'that': 2, 'went': 3, 'went,': 1, 'Everywhere': 1, 'The': 1, 'sure': 1, 'to': 1, 'go': 1}\n"
     ]
    }
   ],
   "source": [
    "# Python Program to Count words in a String using Dictionary\n",
    "def freq(string):\n",
    "    \n",
    "    #step1: A list variable is declared and initialized to an empty list.\n",
    "    words = []\n",
    "    \n",
    "    #step2: Break the string into list of words\n",
    "    words = string.split() # or string.lower().split()\n",
    "    \n",
    "    #step3: Declare a dictionary\n",
    "    Dict = {}\n",
    "    \n",
    "    #step4: Use for loop to iterate words and values to the dictionary\n",
    "    for key in words:\n",
    "        Dict[key] = words.count(key)\n",
    "        \n",
    "    #step5: Print the dictionary\n",
    "    print(\"The Frequency of words is:\",Dict)\n",
    "    \n",
    "#step6: Call function and pass string in it\n",
    "freq(\"Mary had a little lamb Little lamb, little lamb Mary had a little lamb.Its fleece was white as snow And everywhere that Mary went Mary went, Mary went \\\n",
    "Everywhere that Mary went The lamb was sure to go\")"
   ]
  },
  {
   "cell_type": "code",
   "execution_count": 20,
   "id": "eac45e7e-1b65-4dcf-a177-6cd4f001876b",
   "metadata": {},
   "outputs": [
    {
     "name": "stdin",
     "output_type": "stream",
     "text": [
      "enter a number 12\n"
     ]
    },
    {
     "name": "stdout",
     "output_type": "stream",
     "text": [
      "true\n",
      "processed\n"
     ]
    }
   ],
   "source": [
    "\n",
    "def isGoodRating(rating):\n",
    "    try:\n",
    "        if rating > 7:\n",
    "            return 1\n",
    "        else:\n",
    "            return 0\n",
    "    except ValueError:\n",
    "        return 0\n",
    "\n",
    "rating = int(input(\"enter a number\"))\n",
    "\n",
    "try:\n",
    "    check = isGoodRating(rating)\n",
    "    if check != 0:\n",
    "        print(\"true\")\n",
    "    else:\n",
    "        print(\"false\")\n",
    "except ValueError:\n",
    "    print(\"you have entered a real number\")\n",
    "finally:\n",
    "    print(\"processed\")\n"
   ]
  },
  {
   "cell_type": "markdown",
   "id": "94ad51fe-b392-41d2-bbcc-9ce0fea6ce9c",
   "metadata": {},
   "source": [
    "Write a function code to find total count of word little in the given string: \"Mary had a little lamb Little lamb, little lamb Mary had a little lamb.Its fleece was white as snow And everywhere that Mary went Mary went, Mary went Everywhere that Mary went The lamb was sure to go\"**"
   ]
  },
  {
   "cell_type": "code",
   "execution_count": 29,
   "id": "c33ca633-de91-4ee8-8cf0-f4213f0e2e7e",
   "metadata": {},
   "outputs": [
    {
     "name": "stdout",
     "output_type": "stream",
     "text": [
      "total count {'little': 3}\n",
      "total count {'little': 3}\n",
      "total count {'little': 3}\n"
     ]
    }
   ],
   "source": [
    "\n",
    "\n",
    "def countNumber(string, rate):\n",
    "    # Split the string into words\n",
    "    letter = string.split()\n",
    "    \n",
    "    # Create a dictionary to store the count of each word\n",
    "    dict = {}\n",
    "    \n",
    "    # Count the occurrences of the specified word (rate)\n",
    "    for key in letter:\n",
    "        if key == rate:\n",
    "            dict[key] = letter.count(key)\n",
    "            print(\"total count\", dict)\n",
    "\n",
    "# Example string\n",
    "text = (\"Mary had a little lamb Little lamb, little lamb Mary had a little lamb.\"\n",
    "        \"Its fleece was white as snow And everywhere that Mary went Mary went,\"\n",
    "        \"Mary went Everywhere that Mary went The lamb was sure to go\")\n",
    "\n",
    "# Call the function with the string and the word to count\n",
    "countNumber(text, \"little\")\n",
    "\n",
    "    \n",
    "    "
   ]
  },
  {
   "cell_type": "code",
   "execution_count": null,
   "id": "51a4e545-2f83-4e57-b694-8db611366001",
   "metadata": {},
   "outputs": [],
   "source": []
  }
 ],
 "metadata": {
  "kernelspec": {
   "display_name": "Python 3 (ipykernel)",
   "language": "python",
   "name": "python3"
  },
  "language_info": {
   "codemirror_mode": {
    "name": "ipython",
    "version": 3
   },
   "file_extension": ".py",
   "mimetype": "text/x-python",
   "name": "python",
   "nbconvert_exporter": "python",
   "pygments_lexer": "ipython3",
   "version": "3.11.7"
  }
 },
 "nbformat": 4,
 "nbformat_minor": 5
}
