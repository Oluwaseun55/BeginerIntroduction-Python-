{
 "cells": [
  {
   "cell_type": "code",
   "execution_count": 1,
   "id": "190e7c77-5f3e-4bb1-87c9-c8b2c8bea6ca",
   "metadata": {},
   "outputs": [
    {
     "data": {
      "text/plain": [
       "int"
      ]
     },
     "execution_count": 1,
     "metadata": {},
     "output_type": "execute_result"
    }
   ],
   "source": [
    "type(-1)"
   ]
  },
  {
   "cell_type": "code",
   "execution_count": 2,
   "id": "b9c99c39-de8c-41e3-a3ae-147f8978f002",
   "metadata": {},
   "outputs": [
    {
     "data": {
      "text/plain": [
       "sys.float_info(max=1.7976931348623157e+308, max_exp=1024, max_10_exp=308, min=2.2250738585072014e-308, min_exp=-1021, min_10_exp=-307, dig=15, mant_dig=53, epsilon=2.220446049250313e-16, radix=2, rounds=1)"
      ]
     },
     "execution_count": 2,
     "metadata": {},
     "output_type": "execute_result"
    }
   ],
   "source": [
    "import sys\n",
    "sys.float_info"
   ]
  },
  {
   "cell_type": "code",
   "execution_count": 3,
   "id": "9d1651cf-fec2-4708-a5d3-ee85660b83e3",
   "metadata": {},
   "outputs": [
    {
     "data": {
      "text/plain": [
       "12"
      ]
     },
     "execution_count": 3,
     "metadata": {},
     "output_type": "execute_result"
    }
   ],
   "source": [
    "int('12')"
   ]
  },
  {
   "cell_type": "code",
   "execution_count": 4,
   "id": "fe5b5bd2-57e1-42d9-ab65-498c155af101",
   "metadata": {},
   "outputs": [
    {
     "data": {
      "text/plain": [
       "'1'"
      ]
     },
     "execution_count": 4,
     "metadata": {},
     "output_type": "execute_result"
    }
   ],
   "source": [
    "str(1)"
   ]
  },
  {
   "cell_type": "code",
   "execution_count": 5,
   "id": "4c39e931-9c6b-4b15-973c-0a738626c6bb",
   "metadata": {},
   "outputs": [
    {
     "data": {
      "text/plain": [
       "12.0"
      ]
     },
     "execution_count": 5,
     "metadata": {},
     "output_type": "execute_result"
    }
   ],
   "source": [
    "float(12)"
   ]
  },
  {
   "cell_type": "code",
   "execution_count": 8,
   "id": "499091c4-80a9-4673-a509-924f94856b08",
   "metadata": {},
   "outputs": [
    {
     "data": {
      "text/plain": [
       "'ade'"
      ]
     },
     "execution_count": 8,
     "metadata": {},
     "output_type": "execute_result"
    }
   ],
   "source": [
    "str('ade')"
   ]
  },
  {
   "cell_type": "code",
   "execution_count": 9,
   "id": "75af548c-13ac-4b25-89e8-e5acebf5d05d",
   "metadata": {},
   "outputs": [
    {
     "data": {
      "text/plain": [
       "'1.2'"
      ]
     },
     "execution_count": 9,
     "metadata": {},
     "output_type": "execute_result"
    }
   ],
   "source": [
    "str(1.2)"
   ]
  },
  {
   "cell_type": "code",
   "execution_count": null,
   "id": "75692370-be58-48ce-bc67-494d638fa304",
   "metadata": {},
   "outputs": [],
   "source": [
    "What is the data type of the result of: 6 / 2?"
   ]
  },
  {
   "cell_type": "code",
   "execution_count": 10,
   "id": "3dd3090c-d03d-4ef7-ba23-adf6d5127f21",
   "metadata": {},
   "outputs": [
    {
     "data": {
      "text/plain": [
       "float"
      ]
     },
     "execution_count": 10,
     "metadata": {},
     "output_type": "execute_result"
    }
   ],
   "source": [
    "type(6/2)"
   ]
  },
  {
   "cell_type": "code",
   "execution_count": null,
   "id": "2d7494e6-64b8-472a-930c-0fc18cee5a2e",
   "metadata": {},
   "outputs": [],
   "source": [
    "What is the type of the result of: 6 // 2? (Note the double slash //.)"
   ]
  },
  {
   "cell_type": "code",
   "execution_count": 11,
   "id": "51761179-d3f7-43b3-b9fd-eb21832f8766",
   "metadata": {},
   "outputs": [
    {
     "data": {
      "text/plain": [
       "int"
      ]
     },
     "execution_count": 11,
     "metadata": {},
     "output_type": "execute_result"
    }
   ],
   "source": [
    "type(6//2)"
   ]
  },
  {
   "cell_type": "code",
   "execution_count": null,
   "id": "53a34d65-a3d5-4af5-9889-d1680d235b3d",
   "metadata": {},
   "outputs": [],
   "source": [
    "What is the type of the result of: \"hello\" == \"world\""
   ]
  },
  {
   "cell_type": "code",
   "execution_count": 15,
   "id": "130d44d0-5364-40ed-9e99-76bc2af830c5",
   "metadata": {},
   "outputs": [
    {
     "data": {
      "text/plain": [
       "bool"
      ]
     },
     "execution_count": 15,
     "metadata": {},
     "output_type": "execute_result"
    }
   ],
   "source": [
    "type(\"hello\" == \"world\")"
   ]
  },
  {
   "cell_type": "code",
   "execution_count": null,
   "id": "62942743-92a3-4a90-9e23-1bad8cdf2a8b",
   "metadata": {},
   "outputs": [],
   "source": [
    "Write the code to convert the following number representing employeeid \"1001\" to an integer"
   ]
  },
  {
   "cell_type": "code",
   "execution_count": 17,
   "id": "f7185f3b-21ae-472e-8ee5-d5cdc1294bc0",
   "metadata": {},
   "outputs": [
    {
     "name": "stdout",
     "output_type": "stream",
     "text": [
      "1001\n"
     ]
    }
   ],
   "source": [
    "employeeid =\"1001\"\n",
    "int(employeeid)\n",
    "print(employeeid)"
   ]
  },
  {
   "cell_type": "code",
   "execution_count": null,
   "id": "613706d1-6ded-4803-9ab1-3a1463d187d1",
   "metadata": {},
   "outputs": [],
   "source": [
    "Write the code to convert this number representing financial value \"1234.56\" to a floating point number"
   ]
  },
  {
   "cell_type": "code",
   "execution_count": 18,
   "id": "50965bc4-151c-41f5-9edf-4a679cc83907",
   "metadata": {},
   "outputs": [
    {
     "data": {
      "text/plain": [
       "1234.56"
      ]
     },
     "execution_count": 18,
     "metadata": {},
     "output_type": "execute_result"
    }
   ],
   "source": [
    "float(\"1234.56\")"
   ]
  },
  {
   "cell_type": "code",
   "execution_count": null,
   "id": "a0a3b1e2-ae3f-4b4b-b59e-216626a7df5d",
   "metadata": {},
   "outputs": [],
   "source": [
    "Write the code to convert this phone number 123-456-7890 to a string"
   ]
  },
  {
   "cell_type": "code",
   "execution_count": 20,
   "id": "02bf8d96-2fa7-4f8e-a81f-f87f715e6841",
   "metadata": {},
   "outputs": [
    {
     "data": {
      "text/plain": [
       "'123-456-7890'"
      ]
     },
     "execution_count": 20,
     "metadata": {},
     "output_type": "execute_result"
    }
   ],
   "source": [
    "str(\"123-456-7890\")"
   ]
  },
  {
   "cell_type": "code",
   "execution_count": null,
   "id": "cca35db9-8071-4801-9fa6-a75f6595ca50",
   "metadata": {},
   "outputs": [],
   "source": []
  }
 ],
 "metadata": {
  "kernelspec": {
   "display_name": "Python 3 (ipykernel)",
   "language": "python",
   "name": "python3"
  },
  "language_info": {
   "codemirror_mode": {
    "name": "ipython",
    "version": 3
   },
   "file_extension": ".py",
   "mimetype": "text/x-python",
   "name": "python",
   "nbconvert_exporter": "python",
   "pygments_lexer": "ipython3",
   "version": "3.11.7"
  }
 },
 "nbformat": 4,
 "nbformat_minor": 5
}
