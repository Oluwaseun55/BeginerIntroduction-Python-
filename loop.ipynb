{
 "cells": [
  {
   "cell_type": "code",
   "execution_count": null,
   "id": "6ce4919c-bc63-4cf3-a3fa-d3f3d63e63ad",
   "metadata": {},
   "outputs": [],
   "source": [
    "colors = [\"red\",\"blue\",\"green\"]\n",
    "for color in colors:\n",
    "    print(color)"
   ]
  },
  {
   "cell_type": "code",
   "execution_count": null,
   "id": "dfb8144f-dd8f-45d9-b267-e1577a59c36c",
   "metadata": {},
   "outputs": [],
   "source": [
    "colors = [\"red\",\"blue\",\"green\"]\n",
    "for index, color in enumerate (colors):\n",
    "    print(f\"at position{index},i found a {color}\")"
   ]
  },
  {
   "cell_type": "code",
   "execution_count": null,
   "id": "6cac7fca-fa77-46dd-815c-53da93fbd4f0",
   "metadata": {},
   "outputs": [],
   "source": [
    "for number in range(1,11):\n",
    "    print(number)\n"
   ]
  },
  {
   "cell_type": "code",
   "execution_count": null,
   "id": "58cb0c04-3062-485f-a136-8c1a62de11c9",
   "metadata": {},
   "outputs": [],
   "source": [
    "count = 1\n",
    "while count <= 10:\n",
    "    print(count)\n",
    "    count += 1"
   ]
  },
  {
   "cell_type": "code",
   "execution_count": null,
   "id": "d66b8a50-d2b5-4871-a52e-ffbe928e38ee",
   "metadata": {},
   "outputs": [],
   "source": [
    "number = [10,20,30,40,50]\n",
    "n = len(number)\n",
    "for i in range(n):\n",
    "    print(number[i])"
   ]
  },
  {
   "cell_type": "code",
   "execution_count": null,
   "id": "b5d409fd-5ad0-422a-a2e8-2d5a6d454d8d",
   "metadata": {},
   "outputs": [],
   "source": [
    "squares = ['red', 'yellow', 'green', 'purple', 'blue']\n",
    "\n",
    "for i in range(0, 5):\n",
    "    print(\"Before square \", i, 'is',  squares[i])\n",
    "    squares[i] = 'white'\n",
    "    print(\"After square \", i, 'is',  squares[i])"
   ]
  },
  {
   "cell_type": "code",
   "execution_count": 3,
   "id": "55983c8c-113e-4ee8-8810-db86056f660b",
   "metadata": {},
   "outputs": [
    {
     "name": "stdout",
     "output_type": "stream",
     "text": [
      "1990\n",
      "1991\n",
      "1992\n",
      "1993\n",
      "1994\n"
     ]
    }
   ],
   "source": [
    "date =[1990,1991,1992,1993,1994,1995]\n",
    "i= 0\n",
    "dates = date[0]\n",
    "while dates != 1995:\n",
    "    print(dates)\n",
    "    i = i + 1\n",
    "    dates=date[i]"
   ]
  },
  {
   "cell_type": "code",
   "execution_count": 5,
   "id": "cebe5fd3-91d1-4797-bc08-2b4cbeadc27f",
   "metadata": {},
   "outputs": [
    {
     "name": "stdout",
     "output_type": "stream",
     "text": [
      "rock\n",
      "R&B\n",
      "Soundtrack\n",
      "R&B\n",
      "soul\n",
      "pop\n"
     ]
    }
   ],
   "source": [
    "Genres=[ 'rock', 'R&B', 'Soundtrack', 'R&B', 'soul', 'pop']\n",
    "for i in Genres:\n",
    "    print(i)"
   ]
  },
  {
   "cell_type": "code",
   "execution_count": 9,
   "id": "838e355a-b44e-49ce-9473-6acf4fb5f386",
   "metadata": {},
   "outputs": [
    {
     "name": "stdout",
     "output_type": "stream",
     "text": [
      "10\n",
      "9.5\n",
      "10\n",
      "8\n",
      "7.5\n"
     ]
    }
   ],
   "source": [
    "PlayListRatings = [10, 9.5, 10, 8, 7.5, 5, 10, 10]\n",
    "i = 0\n",
    "play = PlayListRatings[i]\n",
    "\n",
    "while (i < len(PlayListRatings) and play >= 6):\n",
    "    print(play)\n",
    "    i = i + 1\n",
    "    play = PlayListRatings[i]\n",
    "    \n",
    "    \n",
    "    \n",
    "    "
   ]
  },
  {
   "cell_type": "code",
   "execution_count": 5,
   "id": "9b99cc25-cf8b-455b-b219-2b00964d7022",
   "metadata": {},
   "outputs": [
    {
     "name": "stdout",
     "output_type": "stream",
     "text": [
      "10\n"
     ]
    }
   ],
   "source": [
    "PlayListRatings = [10, 9.5, 10, 8, 7.5, 5, 10, 10]\n",
    "\n",
    "play = PlayListRatings[i]\n",
    "print(play)"
   ]
  },
  {
   "cell_type": "code",
   "execution_count": null,
   "id": "88306e14-e21e-40ca-b1b7-869bc6459176",
   "metadata": {},
   "outputs": [],
   "source": [
    "Write a while loop to copy the strings 'orange' of the list squares to the list new_squares. Stop and exit the loop if the value on the list is not 'orange':"
   ]
  },
  {
   "cell_type": "code",
   "execution_count": 5,
   "id": "2456d3b8-b2fc-4402-8379-17f138db4608",
   "metadata": {},
   "outputs": [
    {
     "name": "stdout",
     "output_type": "stream",
     "text": [
      "['orange']\n",
      "['orange', 'orange']\n"
     ]
    }
   ],
   "source": [
    "square = ['orange', 'orange', 'purple', 'blue ', 'orange']\n",
    "\n",
    "new_square = []\n",
    "i = 0\n",
    "while (i < len(square) and square[i] == 'orange'):\n",
    "    new_square.append(square[i])\n",
    "    i = i + 1\n",
    "    print(new_square)\n",
    "    \n",
    "    \n",
    "    \n",
    "    \n",
    "    "
   ]
  },
  {
   "cell_type": "code",
   "execution_count": null,
   "id": "ca589b7e-2ad3-4909-a44a-3d96f741178b",
   "metadata": {},
   "outputs": [],
   "source": [
    "Your little brother has just learned multiplication tables in school. Today he has learned tables of 6 and 7. Help him memorise both the tables by printing them using for loop.Your little brother has just learned multiplication tables in school. Today he has learned tables of 6 and 7. Help him memorise both the tables by printing them using for loop.Your little brother has just learned multiplication tables in school. Today he has learned tables of 6 and 7. Help him memorise both the tables by printing them using for loop.Your little brother has just learned multiplication tables in school. Today he has learned tables of 6 and 7. Help him memorise both the tables by printing them using for loop.Your little brother has just learned multiplication tables in school. Today he has learned tables of 6 and 7. Help him memorise both the tables by printing them using for loop.Your little brother has just learned multiplication tables in school. Today he has learned tables of 6 and 7. Help him memorise both the tables by printing them using for loop.Your little brother has just learned multiplication tables in school. Today he has learned tables of 6 and 7. Help him memorise both the tables by printing them using for loop."
   ]
  },
  {
   "cell_type": "code",
   "execution_count": 12,
   "id": "087eda48-ab39-4c54-998b-3164b2a86b14",
   "metadata": {},
   "outputs": [
    {
     "name": "stdout",
     "output_type": "stream",
     "text": [
      "multiplication table of 6:\n",
      "6* 1 = 6\n",
      "6* 2 = 12\n",
      "6* 3 = 18\n",
      "6* 4 = 24\n",
      "6* 5 = 30\n",
      "6* 6 = 36\n",
      "6* 7 = 42\n",
      "6* 8 = 48\n",
      "6* 9 = 54\n",
      "6* 10 = 60\n",
      "6* 11 = 66\n",
      "6* 12 = 72\n"
     ]
    }
   ],
   "source": [
    "print(\"multiplication table of 6:\") \n",
    "for i in range (1,13):\n",
    "    print(\"6*\",i, \"=\", 6*i)\n",
    "    "
   ]
  },
  {
   "cell_type": "code",
   "execution_count": 13,
   "id": "c3c19c1a-73d7-43db-91fd-a5d258c91257",
   "metadata": {},
   "outputs": [
    {
     "name": "stdout",
     "output_type": "stream",
     "text": [
      "multiplication table of 7\n",
      "7* 1 = 7\n",
      "7* 2 = 14\n",
      "7* 3 = 21\n",
      "7* 4 = 28\n",
      "7* 5 = 35\n",
      "7* 6 = 42\n",
      "7* 7 = 49\n",
      "7* 8 = 56\n",
      "7* 9 = 63\n",
      "7* 10 = 70\n",
      "7* 11 = 77\n",
      "7* 12 = 84\n"
     ]
    }
   ],
   "source": [
    "print(\"multiplication table of 7\")\n",
    "for i in range (1,13):\n",
    "    print(\"7*\",i, \"=\", 7*i)"
   ]
  },
  {
   "cell_type": "code",
   "execution_count": null,
   "id": "def1f1af-0b23-4828-b285-49363e1ca41e",
   "metadata": {},
   "outputs": [],
   "source": [
    "The following is a list of animals in a National Zoo. Animals = [\"lion\", \"giraffe\", \"gorilla\", \"parrots\", \"crocodile\",\"deer\", \"swan\"]\n",
    "\n",
    "Your brother needs to write an essay on the animals whose names are made of 7 letters. Help him find those animals through a while loop and create a separate list of such animals."
   ]
  },
  {
   "cell_type": "code",
   "execution_count": null,
   "id": "db471dfa-7a8c-47fd-a91b-a14c6a92a0d2",
   "metadata": {},
   "outputs": [],
   "source": [
    "Animals = [\"lion\", \"giraffe\", \"gorilla\", \"parrots\", \"crocodile\",\"deer\", \"swan\"]"
   ]
  },
  {
   "cell_type": "code",
   "execution_count": 14,
   "id": "10bba98a-7daa-4c40-8f79-a869e1029970",
   "metadata": {},
   "outputs": [
    {
     "name": "stdout",
     "output_type": "stream",
     "text": [
      "0 A\n",
      "1 B\n",
      "2 C\n"
     ]
    }
   ],
   "source": [
    "for i, x in enumerate(['A', 'B', 'C']):\n",
    "    print(i, x)\n"
   ]
  },
  {
   "cell_type": "code",
   "execution_count": null,
   "id": "fafc1093-3245-4402-9ef7-501a014a1452",
   "metadata": {},
   "outputs": [],
   "source": []
  }
 ],
 "metadata": {
  "kernelspec": {
   "display_name": "Python 3 (ipykernel)",
   "language": "python",
   "name": "python3"
  },
  "language_info": {
   "codemirror_mode": {
    "name": "ipython",
    "version": 3
   },
   "file_extension": ".py",
   "mimetype": "text/x-python",
   "name": "python",
   "nbconvert_exporter": "python",
   "pygments_lexer": "ipython3",
   "version": "3.11.7"
  }
 },
 "nbformat": 4,
 "nbformat_minor": 5
}
