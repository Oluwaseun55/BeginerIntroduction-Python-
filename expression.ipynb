{
 "cells": [
  {
   "cell_type": "code",
   "execution_count": null,
   "id": "79cc00c5-3c5d-4699-8818-959af67fdf75",
   "metadata": {},
   "outputs": [],
   "source": [
    "Write an expression to add 30 and 20 and subtract 40"
   ]
  },
  {
   "cell_type": "code",
   "execution_count": 1,
   "id": "949f92b2-94fa-4f77-985f-1e9d8d55dc3f",
   "metadata": {},
   "outputs": [
    {
     "data": {
      "text/plain": [
       "10"
      ]
     },
     "execution_count": 1,
     "metadata": {},
     "output_type": "execute_result"
    }
   ],
   "source": [
    "x = 30+20-40\n",
    "x"
   ]
  },
  {
   "cell_type": "code",
   "execution_count": null,
   "id": "2aadb099-fb2a-4f7e-8439-e0772be598d6",
   "metadata": {},
   "outputs": [],
   "source": [
    "Write an expression to subtract 5 from 55 and divide the result by 10"
   ]
  },
  {
   "cell_type": "code",
   "execution_count": 3,
   "id": "6e0f0261-6d2c-4bf1-bdf7-fa6857835f20",
   "metadata": {},
   "outputs": [
    {
     "data": {
      "text/plain": [
       "5"
      ]
     },
     "execution_count": 3,
     "metadata": {},
     "output_type": "execute_result"
    }
   ],
   "source": [
    "x = 55-5\n",
    "y = x//10\n",
    "y"
   ]
  },
  {
   "cell_type": "code",
   "execution_count": null,
   "id": "3386accd-6cb6-4a29-b7ae-acfcf7865807",
   "metadata": {},
   "outputs": [],
   "source": [
    "What is the value of x where x = 3 + 2 * 2"
   ]
  },
  {
   "cell_type": "code",
   "execution_count": 4,
   "id": "3211aad2-f276-461d-a28c-9c3621a9114b",
   "metadata": {},
   "outputs": [
    {
     "data": {
      "text/plain": [
       "7"
      ]
     },
     "execution_count": 4,
     "metadata": {},
     "output_type": "execute_result"
    }
   ],
   "source": [
    "x= 3 + 2 * 2\n",
    "x"
   ]
  },
  {
   "cell_type": "code",
   "execution_count": null,
   "id": "d78f7625-5d6f-4f00-a6f8-df285698f95b",
   "metadata": {},
   "outputs": [],
   "source": [
    "What is the value of y where y = (3 + 2) * 2?"
   ]
  },
  {
   "cell_type": "code",
   "execution_count": 5,
   "id": "c2deb6bc-9d6e-4a9d-8a83-92d617e52bb3",
   "metadata": {},
   "outputs": [
    {
     "data": {
      "text/plain": [
       "10"
      ]
     },
     "execution_count": 5,
     "metadata": {},
     "output_type": "execute_result"
    }
   ],
   "source": [
    "y = (3 + 2)*2\n",
    "y"
   ]
  },
  {
   "cell_type": "code",
   "execution_count": 6,
   "id": "87a799f7-b08f-4b5f-8d86-73af82166a07",
   "metadata": {},
   "outputs": [
    {
     "data": {
      "text/plain": [
       "17"
      ]
     },
     "execution_count": 6,
     "metadata": {},
     "output_type": "execute_result"
    }
   ],
   "source": [
    "z= x + y\n",
    "z"
   ]
  },
  {
   "cell_type": "code",
   "execution_count": 7,
   "id": "1cd94ecb-1c6f-43f8-9ed1-eebf441641d3",
   "metadata": {},
   "outputs": [
    {
     "data": {
      "text/plain": [
       "5"
      ]
     },
     "execution_count": 7,
     "metadata": {},
     "output_type": "execute_result"
    }
   ],
   "source": [
    "11//2"
   ]
  },
  {
   "cell_type": "markdown",
   "id": "86197392-e033-4aef-a16f-9acef88be117",
   "metadata": {},
   "source": [
    "strings"
   ]
  },
  {
   "cell_type": "code",
   "execution_count": 9,
   "id": "13607c10-5ac2-440a-92d1-a7c76f920d92",
   "metadata": {},
   "outputs": [
    {
     "name": "stdout",
     "output_type": "stream",
     "text": [
      "m\n"
     ]
    }
   ],
   "source": [
    "name = \"micheal jackson\"\n",
    "print(name[0])"
   ]
  },
  {
   "cell_type": "code",
   "execution_count": 10,
   "id": "5d938592-6669-4959-b5fd-7e79c96e2c8f",
   "metadata": {},
   "outputs": [
    {
     "name": "stdout",
     "output_type": "stream",
     "text": [
      "o\n"
     ]
    }
   ],
   "source": [
    "print(name[13])"
   ]
  },
  {
   "cell_type": "code",
   "execution_count": 13,
   "id": "36df1f23-1741-4cac-b674-139b92e55a2d",
   "metadata": {},
   "outputs": [
    {
     "name": "stdout",
     "output_type": "stream",
     "text": [
      "j\n"
     ]
    }
   ],
   "source": [
    "print(name[-7])"
   ]
  },
  {
   "cell_type": "code",
   "execution_count": 15,
   "id": "47e682a5-7e0d-4b06-9b24-cfeb5527a56d",
   "metadata": {},
   "outputs": [
    {
     "name": "stdout",
     "output_type": "stream",
     "text": [
      "mhlas\n"
     ]
    }
   ],
   "source": [
    "print(name[::3])"
   ]
  },
  {
   "cell_type": "code",
   "execution_count": 16,
   "id": "5311f786-f4fc-40ee-8a99-d5826913fd51",
   "metadata": {},
   "outputs": [
    {
     "name": "stdout",
     "output_type": "stream",
     "text": [
      " Michael Jackson \\ is the best\n"
     ]
    }
   ],
   "source": [
    "print(r\" Michael Jackson \\ is the best\" )"
   ]
  },
  {
   "cell_type": "code",
   "execution_count": 19,
   "id": "e3b7d74f-d116-440b-82dc-0d2d1263625b",
   "metadata": {},
   "outputs": [
    {
     "name": "stdout",
     "output_type": "stream",
     "text": [
      " Michael Jackson \n",
      " is the best\n"
     ]
    }
   ],
   "source": [
    "print(\" Michael Jackson \\n is the best\" )"
   ]
  },
  {
   "cell_type": "code",
   "execution_count": 20,
   "id": "e6d21b43-ec55-42bf-a12b-008f1dee6422",
   "metadata": {},
   "outputs": [
    {
     "name": "stdout",
     "output_type": "stream",
     "text": [
      " Michael Jackson \t is the best\n"
     ]
    }
   ],
   "source": [
    "print(\" Michael Jackson \\t is the best\" )"
   ]
  },
  {
   "cell_type": "code",
   "execution_count": 22,
   "id": "98333d1c-a389-4584-bb3f-2b7652ae3860",
   "metadata": {},
   "outputs": [
    {
     "name": "stdout",
     "output_type": "stream",
     "text": [
      "before upper i felt in me to check on you\n",
      "after upper I FELT IN ME TO CHECK ON YOU\n"
     ]
    }
   ],
   "source": [
    "a = \"i felt in me to check on you\"\n",
    "print(\"before upper\",a)\n",
    "b = a.upper()\n",
    "print(\"after upper\",b)"
   ]
  },
  {
   "cell_type": "code",
   "execution_count": 23,
   "id": "c37fa579-feeb-4ce8-b6de-d618f666dbb3",
   "metadata": {},
   "outputs": [
    {
     "data": {
      "text/plain": [
       "3"
      ]
     },
     "execution_count": 23,
     "metadata": {},
     "output_type": "execute_result"
    }
   ],
   "source": [
    "name = \"funmi\"\n",
    "name.find(\"mi\")"
   ]
  },
  {
   "cell_type": "code",
   "execution_count": 26,
   "id": "550d525c-c9f9-49f4-ac1a-cdbdaabd3e89",
   "metadata": {},
   "outputs": [],
   "source": [
    "import re"
   ]
  },
  {
   "cell_type": "code",
   "execution_count": 27,
   "id": "d9801c22-2011-42c8-a042-0c7744f5bae7",
   "metadata": {},
   "outputs": [
    {
     "name": "stdout",
     "output_type": "stream",
     "text": [
      "match found\n"
     ]
    }
   ],
   "source": [
    "s1 = \"Michael Jackson is the best\"\n",
    "# Define the pattern to search for\n",
    "pattern = r\"Jackson\"\n",
    "# Use the search() function to search for the pattern in the string\n",
    "result = re.search(pattern, s1)\n",
    "if result:\n",
    "    print(\"match found\")\n",
    "else:\n",
    "    print(\"error\")\n"
   ]
  },
  {
   "cell_type": "code",
   "execution_count": 32,
   "id": "48286aa8-0e6f-4113-9047-831945bb5ff2",
   "metadata": {},
   "outputs": [
    {
     "name": "stdout",
     "output_type": "stream",
     "text": [
      "good\n"
     ]
    }
   ],
   "source": [
    "gender=\"funmi is my girlfriend\"\n",
    "check = \"funmi\"\n",
    "result =re.search(check, gender)\n",
    "if result:\n",
    "    print(\"good\")\n",
    "else:\n",
    "    print(\"liar\")"
   ]
  },
  {
   "cell_type": "code",
   "execution_count": 36,
   "id": "8b805356-6cf4-45df-aa9f-2d7a499a1c6c",
   "metadata": {},
   "outputs": [
    {
     "name": "stdout",
     "output_type": "stream",
     "text": [
      "match found 123456789\n"
     ]
    }
   ],
   "source": [
    "pattern = r\"\\d\\d\\d\\d\\d\\d\\d\\d\\d\" # Matches any ten consecutive digits\n",
    "phone = \"my phone is 1234567890\"\n",
    "submit = re.search(pattern, phone)\n",
    "if submit:\n",
    "    print(\"match found\",submit.group())\n",
    "else:\n",
    "    print(\"it doesnt match\")"
   ]
  },
  {
   "cell_type": "code",
   "execution_count": 37,
   "id": "6e984866-7c94-4723-90cf-117644dcefae",
   "metadata": {},
   "outputs": [
    {
     "name": "stdout",
     "output_type": "stream",
     "text": [
      "['as', 'as']\n"
     ]
    }
   ],
   "source": [
    "s2 = \"Michael Jackson was a singer and known as the 'King of Pop'\"\n",
    "\n",
    "\n",
    "# Use the findall() function to find all occurrences of the \"as\" in the string\n",
    "result = re.findall(\"as\", s2)\n",
    "\n",
    "# Print out the list of matched words\n",
    "print(result)"
   ]
  },
  {
   "cell_type": "code",
   "execution_count": 38,
   "id": "6cb5d2c2-bf06-444a-936e-06bc7eccc8b1",
   "metadata": {},
   "outputs": [
    {
     "name": "stdout",
     "output_type": "stream",
     "text": [
      "Matches: [',', ' ', '!']\n"
     ]
    }
   ],
   "source": [
    "pattern = r\"\\W\"  # Matches any non-word character\n",
    "text = \"Hello, world!\"\n",
    "matches = re.findall(pattern, text)\n",
    "\n",
    "print(\"Matches:\", matches)"
   ]
  },
  {
   "cell_type": "code",
   "execution_count": 39,
   "id": "0105fbec-e404-4071-a52b-4d554a4ca8ac",
   "metadata": {},
   "outputs": [
    {
     "name": "stdout",
     "output_type": "stream",
     "text": [
      "['Michael', 'Jackson', 'was', 'a', 'singer', 'and', 'known', 'as', 'the', \"'King\", 'of', \"Pop'\"]\n"
     ]
    }
   ],
   "source": [
    "# Use the split function to split the string by the \"\\s\"\n",
    "split_array = re.split(\"\\s\", s2)\n",
    "\n",
    "# The split_array contains all the substrings, split by whitespace characters\n",
    "print(split_array) "
   ]
  },
  {
   "cell_type": "code",
   "execution_count": 40,
   "id": "408c48bb-f4cb-4960-a701-7a27b899ae06",
   "metadata": {},
   "outputs": [
    {
     "name": "stdout",
     "output_type": "stream",
     "text": [
      "Michael Jackson was a singer and known as the 'legend'\n"
     ]
    }
   ],
   "source": [
    "# Define the regular expression pattern to search for\n",
    "pattern = r\"King of Pop\"\n",
    "\n",
    "# Define the replacement string\n",
    "replacement = \"legend\"\n",
    "\n",
    "# Use the sub function to replace the pattern with the replacement string\n",
    "new_string = re.sub(pattern, replacement, s2, flags=re.IGNORECASE)\n",
    "\n",
    "# The new_string contains the original string with the pattern replaced by the replacement string\n",
    "print(new_string) "
   ]
  },
  {
   "cell_type": "code",
   "execution_count": null,
   "id": "7b1264c6-80b5-42d8-8b27-846ee64844ab",
   "metadata": {},
   "outputs": [],
   "source": [
    "Consider the variable d use slicing to print out the first three elements:"
   ]
  },
  {
   "cell_type": "code",
   "execution_count": 43,
   "id": "cb572544-c610-4bf7-b684-d9046084139f",
   "metadata": {},
   "outputs": [
    {
     "name": "stdout",
     "output_type": "stream",
     "text": [
      "ABC\n"
     ]
    }
   ],
   "source": [
    "d = \"ABCDEFG\"\n",
    "print(d[:3])"
   ]
  },
  {
   "cell_type": "code",
   "execution_count": null,
   "id": "4a58c12a-462c-486e-9e2d-a52e7322ab7d",
   "metadata": {},
   "outputs": [],
   "source": [
    "Use a stride value of 2 to print out every second character of the string e:"
   ]
  },
  {
   "cell_type": "code",
   "execution_count": 44,
   "id": "529d3d1f-1633-4fb0-9ef8-774f08901153",
   "metadata": {},
   "outputs": [
    {
     "name": "stdout",
     "output_type": "stream",
     "text": [
      "correct\n"
     ]
    }
   ],
   "source": [
    "e = 'clocrkr1e1c1t'\n",
    "print(e[::2])"
   ]
  },
  {
   "cell_type": "code",
   "execution_count": null,
   "id": "94a17b7a-eda0-4a2a-8f6d-65db795eea3c",
   "metadata": {},
   "outputs": [],
   "source": [
    "Convert the variable f to uppercase:"
   ]
  },
  {
   "cell_type": "code",
   "execution_count": 47,
   "id": "0df82525-0768-4646-81c2-c9350dc21744",
   "metadata": {},
   "outputs": [
    {
     "name": "stdout",
     "output_type": "stream",
     "text": [
      "YOU ARE WRONG\n"
     ]
    }
   ],
   "source": [
    "f = \"You are wrong\"\n",
    "g= f.upper()\n",
    "print(g)"
   ]
  },
  {
   "cell_type": "code",
   "execution_count": null,
   "id": "3cd9df46-ec4e-4cab-afad-f91ac1a77893",
   "metadata": {},
   "outputs": [],
   "source": [
    "# Write your code below and press Shift+Enter to execute\n",
    "\n",
    "g = \"Mary had a little lamb Little lamb, little lamb Mary had a little lamb \\\n",
    "Its fleece was white as snow And everywhere that Mary went Mary went, Mary went \\\n",
    "Everywhere that Mary went The lamb was sure to go\""
   ]
  },
  {
   "cell_type": "code",
   "execution_count": 48,
   "id": "f98b6db4-aee6-4fb6-a825-4ba639111964",
   "metadata": {},
   "outputs": [
    {
     "data": {
      "text/plain": [
       "-1"
      ]
     },
     "execution_count": 48,
     "metadata": {},
     "output_type": "execute_result"
    }
   ],
   "source": [
    "g.find(\"snow\")"
   ]
  },
  {
   "cell_type": "code",
   "execution_count": 49,
   "id": "f479d3c7-3886-4752-9931-137941cc7fba",
   "metadata": {},
   "outputs": [
    {
     "name": "stdout",
     "output_type": "stream",
     "text": [
      "Matches: [' ', ' ']\n"
     ]
    }
   ],
   "source": [
    "pattern = r\"\\W\"  # Matches any non-word character\n",
    "\n",
    "matches = re.findall(pattern, g)\n",
    "\n",
    "print(\"Matches:\", matches)"
   ]
  },
  {
   "cell_type": "code",
   "execution_count": null,
   "id": "5953a9db-efde-424d-b289-b48738afbdc4",
   "metadata": {},
   "outputs": [],
   "source": [
    "In the string s3, find whether the digit is present or not using the \\d and search() function:"
   ]
  },
  {
   "cell_type": "code",
   "execution_count": 50,
   "id": "a0002dac-233d-4892-9f69-239d697063eb",
   "metadata": {},
   "outputs": [
    {
     "name": "stdout",
     "output_type": "stream",
     "text": [
      "is there\n"
     ]
    }
   ],
   "source": [
    "part =r\"\\d\"\n",
    "s3 = \"House number- 1105\"\n",
    "check = re.search(part, s3)\n",
    "if check:\n",
    "    print(\"is there\")\n",
    "else:\n",
    "    print(\"not sure\")\n"
   ]
  },
  {
   "cell_type": "code",
   "execution_count": null,
   "id": "f30352fd-23b3-4ea6-88ef-9064ff2ed755",
   "metadata": {},
   "outputs": [],
   "source": [
    "In the string str1, replace the sub-string fox with bear using sub() function:"
   ]
  },
  {
   "cell_type": "code",
   "execution_count": 53,
   "id": "5acd5cc8-1d27-4246-8b05-f4370835285e",
   "metadata": {},
   "outputs": [
    {
     "name": "stdout",
     "output_type": "stream",
     "text": [
      "The quick black fox jumps over the lazy dog.\n"
     ]
    }
   ],
   "source": [
    "str1= \"The quick brown fox jumps over the lazy dog.\"\n",
    "newstr = re.sub(r\"brown\",\"black\", str1)\n",
    "print(newstr)"
   ]
  },
  {
   "cell_type": "code",
   "execution_count": 54,
   "id": "9dc30f0c-535a-4f71-a2b5-6278bf020b31",
   "metadata": {},
   "outputs": [
    {
     "data": {
      "text/plain": [
       "5"
      ]
     },
     "execution_count": 54,
     "metadata": {},
     "output_type": "execute_result"
    }
   ],
   "source": [
    "\"helloMike\".find(\"Mike\")"
   ]
  },
  {
   "cell_type": "code",
   "execution_count": null,
   "id": "a5b32950-1707-4954-a5b6-39f0924d8110",
   "metadata": {},
   "outputs": [],
   "source": []
  }
 ],
 "metadata": {
  "kernelspec": {
   "display_name": "Python 3 (ipykernel)",
   "language": "python",
   "name": "python3"
  },
  "language_info": {
   "codemirror_mode": {
    "name": "ipython",
    "version": 3
   },
   "file_extension": ".py",
   "mimetype": "text/x-python",
   "name": "python",
   "nbconvert_exporter": "python",
   "pygments_lexer": "ipython3",
   "version": "3.11.7"
  }
 },
 "nbformat": 4,
 "nbformat_minor": 5
}
